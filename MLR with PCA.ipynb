{
 "cells": [
  {
   "cell_type": "code",
   "execution_count": 1,
   "metadata": {
    "tags": []
   },
   "outputs": [
    {
     "name": "stdout",
     "output_type": "stream",
     "text": [
      "      age     sex     bmi  children smoker     region      charges\n",
      "0      19  female  27.900         0    yes  southwest  16884.92400\n",
      "1      18    male  33.770         1     no  southeast   1725.55230\n",
      "2      28    male  33.000         3     no  southeast   4449.46200\n",
      "3      33    male  22.705         0     no  northwest  21984.47061\n",
      "4      32    male  28.880         0     no  northwest   3866.85520\n",
      "...   ...     ...     ...       ...    ...        ...          ...\n",
      "1333   50    male  30.970         3     no  northwest  10600.54830\n",
      "1334   18  female  31.920         0     no  northeast   2205.98080\n",
      "1335   18  female  36.850         0     no  southeast   1629.83350\n",
      "1336   21  female  25.800         0     no  southwest   2007.94500\n",
      "1337   61  female  29.070         0    yes  northwest  29141.36030\n",
      "\n",
      "[1338 rows x 7 columns]\n"
     ]
    }
   ],
   "source": [
    "import numpy as np\n",
    "import pandas as pd\n",
    "import matplotlib.pyplot as plt\n",
    "dataset = pd.read_csv(\"insurance.csv\")\n",
    "print(dataset)"
   ]
  },
  {
   "cell_type": "code",
   "execution_count": 2,
   "metadata": {
    "tags": []
   },
   "outputs": [
    {
     "name": "stdout",
     "output_type": "stream",
     "text": [
      "(1338, 7)\n"
     ]
    }
   ],
   "source": [
    "print(dataset.shape)"
   ]
  },
  {
   "cell_type": "code",
   "execution_count": 3,
   "metadata": {},
   "outputs": [
    {
     "data": {
      "text/plain": [
       "age         0\n",
       "sex         0\n",
       "bmi         0\n",
       "children    0\n",
       "smoker      0\n",
       "region      0\n",
       "charges     0\n",
       "dtype: int64"
      ]
     },
     "execution_count": 3,
     "metadata": {},
     "output_type": "execute_result"
    }
   ],
   "source": [
    "dataset.isnull().sum()"
   ]
  },
  {
   "cell_type": "code",
   "execution_count": 4,
   "metadata": {
    "tags": []
   },
   "outputs": [
    {
     "name": "stdout",
     "output_type": "stream",
     "text": [
      "male      676\n",
      "female    662\n",
      "Name: sex, dtype: int64\n"
     ]
    }
   ],
   "source": [
    "print(dataset['sex'].value_counts())"
   ]
  },
  {
   "cell_type": "code",
   "execution_count": 5,
   "metadata": {
    "tags": []
   },
   "outputs": [
    {
     "name": "stdout",
     "output_type": "stream",
     "text": [
      "no     1064\n",
      "yes     274\n",
      "Name: smoker, dtype: int64\n"
     ]
    }
   ],
   "source": [
    "print(dataset['smoker'].value_counts())"
   ]
  },
  {
   "cell_type": "code",
   "execution_count": 6,
   "metadata": {
    "tags": []
   },
   "outputs": [
    {
     "name": "stdout",
     "output_type": "stream",
     "text": [
      "southeast    364\n",
      "northwest    325\n",
      "southwest    325\n",
      "northeast    324\n",
      "Name: region, dtype: int64\n"
     ]
    }
   ],
   "source": [
    "print(dataset['region'].value_counts())"
   ]
  },
  {
   "cell_type": "code",
   "execution_count": 7,
   "metadata": {
    "tags": []
   },
   "outputs": [
    {
     "name": "stdout",
     "output_type": "stream",
     "text": [
      "[[19 'female' 27.9 0 'yes' 'southwest']\n",
      " [18 'male' 33.77 1 'no' 'southeast']\n",
      " [28 'male' 33.0 3 'no' 'southeast']\n",
      " ...\n",
      " [18 'female' 36.85 0 'no' 'southeast']\n",
      " [21 'female' 25.8 0 'no' 'southwest']\n",
      " [61 'female' 29.07 0 'yes' 'northwest']]\n",
      "[16884.924   1725.5523  4449.462  ...  1629.8335  2007.945  29141.3603]\n"
     ]
    }
   ],
   "source": [
    "x=dataset.iloc[:,:-1].values\n",
    "y=dataset.iloc[:,-1].values\n",
    "print(x)\n",
    "print(y)"
   ]
  },
  {
   "cell_type": "code",
   "execution_count": 8,
   "metadata": {},
   "outputs": [
    {
     "data": {
      "text/html": [
       "<div>\n",
       "<style scoped>\n",
       "    .dataframe tbody tr th:only-of-type {\n",
       "        vertical-align: middle;\n",
       "    }\n",
       "\n",
       "    .dataframe tbody tr th {\n",
       "        vertical-align: top;\n",
       "    }\n",
       "\n",
       "    .dataframe thead th {\n",
       "        text-align: right;\n",
       "    }\n",
       "</style>\n",
       "<table border=\"1\" class=\"dataframe\">\n",
       "  <thead>\n",
       "    <tr style=\"text-align: right;\">\n",
       "      <th></th>\n",
       "      <th>0</th>\n",
       "      <th>1</th>\n",
       "      <th>2</th>\n",
       "      <th>3</th>\n",
       "      <th>4</th>\n",
       "      <th>5</th>\n",
       "      <th>6</th>\n",
       "      <th>7</th>\n",
       "    </tr>\n",
       "  </thead>\n",
       "  <tbody>\n",
       "    <tr>\n",
       "      <td>0</td>\n",
       "      <td>0</td>\n",
       "      <td>1</td>\n",
       "      <td>0</td>\n",
       "      <td>0</td>\n",
       "      <td>1</td>\n",
       "      <td>19</td>\n",
       "      <td>27.9</td>\n",
       "      <td>0</td>\n",
       "    </tr>\n",
       "    <tr>\n",
       "      <td>1</td>\n",
       "      <td>1</td>\n",
       "      <td>0</td>\n",
       "      <td>0</td>\n",
       "      <td>1</td>\n",
       "      <td>0</td>\n",
       "      <td>18</td>\n",
       "      <td>33.77</td>\n",
       "      <td>1</td>\n",
       "    </tr>\n",
       "    <tr>\n",
       "      <td>2</td>\n",
       "      <td>1</td>\n",
       "      <td>0</td>\n",
       "      <td>0</td>\n",
       "      <td>1</td>\n",
       "      <td>0</td>\n",
       "      <td>28</td>\n",
       "      <td>33</td>\n",
       "      <td>3</td>\n",
       "    </tr>\n",
       "    <tr>\n",
       "      <td>3</td>\n",
       "      <td>1</td>\n",
       "      <td>0</td>\n",
       "      <td>1</td>\n",
       "      <td>0</td>\n",
       "      <td>0</td>\n",
       "      <td>33</td>\n",
       "      <td>22.705</td>\n",
       "      <td>0</td>\n",
       "    </tr>\n",
       "    <tr>\n",
       "      <td>4</td>\n",
       "      <td>1</td>\n",
       "      <td>0</td>\n",
       "      <td>1</td>\n",
       "      <td>0</td>\n",
       "      <td>0</td>\n",
       "      <td>32</td>\n",
       "      <td>28.88</td>\n",
       "      <td>0</td>\n",
       "    </tr>\n",
       "  </tbody>\n",
       "</table>\n",
       "</div>"
      ],
      "text/plain": [
       "   0  1  2  3  4   5       6  7\n",
       "0  0  1  0  0  1  19    27.9  0\n",
       "1  1  0  0  1  0  18   33.77  1\n",
       "2  1  0  0  1  0  28      33  3\n",
       "3  1  0  1  0  0  33  22.705  0\n",
       "4  1  0  1  0  0  32   28.88  0"
      ]
     },
     "execution_count": 8,
     "metadata": {},
     "output_type": "execute_result"
    }
   ],
   "source": [
    "from sklearn.compose import ColumnTransformer\n",
    "from sklearn.preprocessing import OneHotEncoder,LabelEncoder\n",
    "ct= ColumnTransformer(transformers=[('encoder',OneHotEncoder(sparse=False,drop='first',categories='auto'),[1,4,5])],remainder='passthrough')\n",
    "x=np.array(ct.fit_transform(x))\n",
    "pd.DataFrame(x).head()"
   ]
  },
  {
   "cell_type": "code",
   "execution_count": 9,
   "metadata": {},
   "outputs": [
    {
     "data": {
      "text/html": [
       "<div>\n",
       "<style scoped>\n",
       "    .dataframe tbody tr th:only-of-type {\n",
       "        vertical-align: middle;\n",
       "    }\n",
       "\n",
       "    .dataframe tbody tr th {\n",
       "        vertical-align: top;\n",
       "    }\n",
       "\n",
       "    .dataframe thead th {\n",
       "        text-align: right;\n",
       "    }\n",
       "</style>\n",
       "<table border=\"1\" class=\"dataframe\">\n",
       "  <thead>\n",
       "    <tr style=\"text-align: right;\">\n",
       "      <th></th>\n",
       "      <th>0</th>\n",
       "      <th>1</th>\n",
       "      <th>2</th>\n",
       "      <th>3</th>\n",
       "      <th>4</th>\n",
       "      <th>5</th>\n",
       "      <th>6</th>\n",
       "      <th>7</th>\n",
       "    </tr>\n",
       "  </thead>\n",
       "  <tbody>\n",
       "    <tr>\n",
       "      <td>0</td>\n",
       "      <td>-1.010519</td>\n",
       "      <td>1.970587</td>\n",
       "      <td>-0.566418</td>\n",
       "      <td>-0.611324</td>\n",
       "      <td>1.765481</td>\n",
       "      <td>-1.438764</td>\n",
       "      <td>-0.453320</td>\n",
       "      <td>-0.908614</td>\n",
       "    </tr>\n",
       "    <tr>\n",
       "      <td>1</td>\n",
       "      <td>0.989591</td>\n",
       "      <td>-0.507463</td>\n",
       "      <td>-0.566418</td>\n",
       "      <td>1.635795</td>\n",
       "      <td>-0.566418</td>\n",
       "      <td>-1.509965</td>\n",
       "      <td>0.509621</td>\n",
       "      <td>-0.078767</td>\n",
       "    </tr>\n",
       "    <tr>\n",
       "      <td>2</td>\n",
       "      <td>0.989591</td>\n",
       "      <td>-0.507463</td>\n",
       "      <td>-0.566418</td>\n",
       "      <td>1.635795</td>\n",
       "      <td>-0.566418</td>\n",
       "      <td>-0.797954</td>\n",
       "      <td>0.383307</td>\n",
       "      <td>1.580926</td>\n",
       "    </tr>\n",
       "    <tr>\n",
       "      <td>3</td>\n",
       "      <td>0.989591</td>\n",
       "      <td>-0.507463</td>\n",
       "      <td>1.765481</td>\n",
       "      <td>-0.611324</td>\n",
       "      <td>-0.566418</td>\n",
       "      <td>-0.441948</td>\n",
       "      <td>-1.305531</td>\n",
       "      <td>-0.908614</td>\n",
       "    </tr>\n",
       "    <tr>\n",
       "      <td>4</td>\n",
       "      <td>0.989591</td>\n",
       "      <td>-0.507463</td>\n",
       "      <td>1.765481</td>\n",
       "      <td>-0.611324</td>\n",
       "      <td>-0.566418</td>\n",
       "      <td>-0.513149</td>\n",
       "      <td>-0.292556</td>\n",
       "      <td>-0.908614</td>\n",
       "    </tr>\n",
       "  </tbody>\n",
       "</table>\n",
       "</div>"
      ],
      "text/plain": [
       "          0         1         2         3         4         5         6  \\\n",
       "0 -1.010519  1.970587 -0.566418 -0.611324  1.765481 -1.438764 -0.453320   \n",
       "1  0.989591 -0.507463 -0.566418  1.635795 -0.566418 -1.509965  0.509621   \n",
       "2  0.989591 -0.507463 -0.566418  1.635795 -0.566418 -0.797954  0.383307   \n",
       "3  0.989591 -0.507463  1.765481 -0.611324 -0.566418 -0.441948 -1.305531   \n",
       "4  0.989591 -0.507463  1.765481 -0.611324 -0.566418 -0.513149 -0.292556   \n",
       "\n",
       "          7  \n",
       "0 -0.908614  \n",
       "1 -0.078767  \n",
       "2  1.580926  \n",
       "3 -0.908614  \n",
       "4 -0.908614  "
      ]
     },
     "execution_count": 9,
     "metadata": {},
     "output_type": "execute_result"
    }
   ],
   "source": [
    "from sklearn.preprocessing import StandardScaler\n",
    "sc = StandardScaler()\n",
    "x = sc.fit_transform(x)\n",
    "pd.DataFrame(x).head() "
   ]
  },
  {
   "cell_type": "code",
   "execution_count": 10,
   "metadata": {},
   "outputs": [
    {
     "name": "stdout",
     "output_type": "stream",
     "text": [
      "[0.19216849 0.16586792 0.13701263 0.13277753]\n"
     ]
    }
   ],
   "source": [
    "import plotly.express as px\n",
    "from sklearn.decomposition import PCA\n",
    "pca =PCA(n_components=4)\n",
    "x=pca.fit_transform(x)\n",
    "PVE=pca.explained_variance_ratio_\n",
    "print(PVE)"
   ]
  },
  {
   "cell_type": "code",
   "execution_count": 15,
   "metadata": {},
   "outputs": [
    {
     "name": "stdout",
     "output_type": "stream",
     "text": [
      "62.7826571584163\n"
     ]
    }
   ],
   "source": [
    "total_var = PVE.sum() * 100\n",
    "print(total_var)"
   ]
  },
  {
   "cell_type": "code",
   "execution_count": 11,
   "metadata": {},
   "outputs": [
    {
     "data": {
      "text/plain": [
       "LinearRegression(copy_X=True, fit_intercept=True, n_jobs=None, normalize=False)"
      ]
     },
     "execution_count": 11,
     "metadata": {},
     "output_type": "execute_result"
    }
   ],
   "source": [
    "from sklearn.model_selection import train_test_split\n",
    "from sklearn.linear_model import LinearRegression\n",
    "x_train,x_test,y_train,y_test = train_test_split(x,y,test_size = 0.2,random_state=0)\n",
    "reg = LinearRegression()\n",
    "reg.fit(x_train,y_train)"
   ]
  },
  {
   "cell_type": "code",
   "execution_count": 12,
   "metadata": {},
   "outputs": [
    {
     "data": {
      "text/plain": [
       "array([14357.63462871,  9562.21490566, 27993.03878083, 15565.43319064,\n",
       "        2489.52294517, 10667.5372186 ,  2983.39659852, 13133.65066834,\n",
       "       11061.23376991, 18853.43751452,  8671.79125223,  8618.35978811,\n",
       "        5855.80730586,  5521.03922448, 19836.8680261 , 13782.1863891 ,\n",
       "       12339.11592599, 14927.6550846 , 16642.92925603, 20314.88517874,\n",
       "       24589.40768041, 10647.20275527,  5787.04729244, 15322.36483443,\n",
       "       15047.14712508, 16334.53919285,  1467.7691489 , 14353.0233398 ,\n",
       "        5739.50606755, 17287.015189  , 10822.4488516 , 29086.12476862,\n",
       "       14336.60987218, 13948.7574437 , 10264.34223272,  3974.18195268,\n",
       "       21629.44233348, 22781.05622616, 17852.47848322,  3254.88911151,\n",
       "        2464.2934812 , 14096.26415126, 20341.24217558, 27699.88219183,\n",
       "       15845.39793107,  8563.45652221, 13707.68677987, 14018.51151567,\n",
       "        4791.32470977,  8867.21193958,  5174.52573924,  9555.043626  ,\n",
       "       21928.35050604, 21909.90442783, 10798.91167886, 13528.57769393,\n",
       "       15628.37476515, 12289.12279973, 25121.96106687, 14507.41068693,\n",
       "       10128.68613068, 28704.30768562, 23385.96333146, 16895.6530151 ,\n",
       "       23288.29842159,  8440.52785321, 22372.04696395, 27880.18704945,\n",
       "        8685.10949694, 21448.48014732,  4243.00985171, 17725.66606949,\n",
       "       18140.91911368,  9917.49632964,  4310.31653529,  5453.8664781 ,\n",
       "       10092.76998313, 19836.41972721, 14247.69160564, 24480.49973666,\n",
       "        5523.94602786, 19260.78015459, 12114.82707468, 13992.35783939,\n",
       "       24648.48367877, 26373.87832443,  7790.66142704, 12087.64123933,\n",
       "       14113.36916066, 20468.79423139, 12663.77618122, 12278.16014571,\n",
       "        6737.27682606, 11278.48002656, 13670.09722715,  7061.82208432,\n",
       "       22141.26912535, 24384.57973465,  9106.72736416, 14678.20901703,\n",
       "       14826.1642897 , 15399.71884393, 11558.53979716, 24202.80945499,\n",
       "       27081.59457162,  2009.23224112, 10569.44268955,  5063.97464814,\n",
       "       14965.36850495, 21469.87520658,  9923.04128275, 22160.35012718,\n",
       "        6946.21223193, 20446.43581103, 29205.25879937, 16493.92878847,\n",
       "       10836.59546624, 11272.25206099, 16280.63052021, 18435.14948822,\n",
       "       31420.63537022,  2606.04591525,  6995.75555076, 20588.21077498,\n",
       "        5366.17436445,  6171.37741629, 14898.19673361, 23847.37614549,\n",
       "       23072.74558708, 13134.9875364 , 11673.29528349, 17006.71229212,\n",
       "        9390.57175633, 11790.55342192, 19898.4741375 , 19661.620063  ,\n",
       "       22305.74877188, 10570.89709888, 16686.25984769, 13262.96137389,\n",
       "        4003.10974422, 12828.84393575, 21636.99031043, 14284.80805257,\n",
       "       13365.13689863,  9771.01310349, 11802.56188744,  6523.13559877,\n",
       "        9620.57244403, 14801.6948088 ,  6409.80790099, 25471.49208419,\n",
       "       16189.32133206, 16162.38338746,  7856.4175402 ,  9296.27092865,\n",
       "       14111.54697798, 16013.38416899, 11215.59169312, 12367.30278714,\n",
       "       19337.87386216, 18525.10243645,  4717.80682216, 16450.13795063,\n",
       "        2405.69188773, 21585.53685691,  8860.04210304, 11110.31377848,\n",
       "       13923.20250195,  8239.78488139, 16948.24401817, 15956.39692466,\n",
       "        9261.08528737, 15623.34278052, 17412.23982788, 23852.04016118,\n",
       "       14948.39463608, 12853.96203166, 28661.86128723, 10904.96170321,\n",
       "        9966.64230288, 19123.63819096, 14370.14816537, 15283.22591438,\n",
       "       15240.04216972, 21605.77791211, 12379.05587213,  3917.64716875,\n",
       "        6535.05070635, 10524.7079062 , 22137.71941942, 10758.84531403,\n",
       "        4587.50495006, 22569.17675657, 13064.90798664,  9734.90458735,\n",
       "       17069.44422705, 12522.93686486, 20543.67593478, 13959.22970534,\n",
       "        8381.40970839, 25539.75059689, 10359.10492755, 24903.75083145,\n",
       "       16730.90595706, 19477.31584162, 15349.46572796, 16687.11868856,\n",
       "       12569.47986652, 16924.40658975, 15682.75791036,  6501.89299203,\n",
       "        9660.08863981,  3434.0119461 , 13467.56929722,  9193.08924747,\n",
       "       18670.83201662,  4990.76561961, 14177.32836614,  6274.00025704,\n",
       "       11551.38201359,  9897.81181878,  3722.66814567,  2705.26767173,\n",
       "        5192.66897522, 15614.74610005, 14037.80828066,  3409.19348143,\n",
       "       19531.1314295 , 13390.8704958 , 14018.9218296 , 17536.92362998,\n",
       "        9336.26868957, 12793.25907408,  7488.15236848, 16403.43578967,\n",
       "        6953.07874294, 20609.40220145, 14545.84157771,  8567.3049225 ,\n",
       "        2907.36085182, 27584.98980988,  9545.18328951,  4009.14741673,\n",
       "       19265.15772418, 15686.30761629, 15312.31099169,  7972.11167179,\n",
       "        2484.37990469, 13780.17391337, 16727.72483669, 17863.09926981,\n",
       "        8107.75377669, 11294.85369629,  3626.80231464, 10197.21541548,\n",
       "       14782.50521006,  7569.28839828, 19722.08245323,  7127.90756379,\n",
       "       19722.57579727, 13977.95392725, 22806.80191553, 10209.65714398,\n",
       "       14438.15997568, 16135.6569671 , 23473.13505715, 18570.69714245])"
      ]
     },
     "execution_count": 12,
     "metadata": {},
     "output_type": "execute_result"
    }
   ],
   "source": [
    "y_pred = reg.predict(x_test)\n",
    "y_pred"
   ]
  },
  {
   "cell_type": "code",
   "execution_count": 13,
   "metadata": {},
   "outputs": [
    {
     "name": "stdout",
     "output_type": "stream",
     "text": [
      "104435297.37357266\n",
      "8091.547208919449\n",
      "10219.358951204946\n"
     ]
    }
   ],
   "source": [
    "from sklearn.metrics import mean_squared_error,mean_absolute_error\n",
    "mae = mean_absolute_error(y_test,y_pred)\n",
    "mse = mean_squared_error(y_test,y_pred)\n",
    "rmse = np.sqrt(mse)\n",
    "print(mse)\n",
    "print(mae)\n",
    "print(rmse)"
   ]
  },
  {
   "cell_type": "code",
   "execution_count": 14,
   "metadata": {},
   "outputs": [
    {
     "data": {
      "image/png": "[encoded data removed]",
      "text/plain": [
       "<Figure size 432x288 with 1 Axes>"
      ]
     },
     "metadata": {
      "needs_background": "light"
     },
     "output_type": "display_data"
    }
   ],
   "source": [
    "plt.scatter(x_test[:,0],y_test,c='red',label = 'Original y_test')\n",
    "plt.scatter(x_test[:,0],y_pred,c='blue',label = 'Calculated y_test')\n",
    "plt.xlabel('sex')\n",
    "plt.ylabel('charges')\n",
    "plt.title('sex vs charges plot')\n",
    "plt.legend()\n",
    "plt.show()"
   ]
  },
  {
   "cell_type": "code",
   "execution_count": 18,
   "metadata": {},
   "outputs": [
    {
     "data": {
      "image/png": "[encoded data removed]",
      "text/plain": [
       "<Figure size 432x288 with 1 Axes>"
      ]
     },
     "metadata": {
      "needs_background": "light"
     },
     "output_type": "display_data"
    }
   ],
   "source": [
    "plt.scatter(x_test[:,1],y_test,c='red',label = 'Original y_test')\n",
    "plt.scatter(x_test[:,1],y_pred,c='blue',label = 'Calculated y_test')\n",
    "plt.xlabel('smoker')\n",
    "plt.ylabel('charges')\n",
    "plt.title('smoker vs charges plot')\n",
    "plt.legend()\n",
    "plt.show()"
   ]
  },
  {
   "cell_type": "code",
   "execution_count": 19,
   "metadata": {},
   "outputs": [
    {
     "data": {
      "image/png": "[encoded data removed]",
      "text/plain": [
       "<Figure size 432x288 with 1 Axes>"
      ]
     },
     "metadata": {
      "needs_background": "light"
     },
     "output_type": "display_data"
    }
   ],
   "source": [
    "plt.scatter(x_test[:,2],y_test,c='red',label = 'Original y_test')\n",
    "plt.scatter(x_test[:,2],y_pred,c='blue',label = 'Calculated y_test')\n",
    "plt.xlabel('region_1')\n",
    "plt.ylabel('charges')\n",
    "plt.title('region_1 vs charges plot')\n",
    "plt.legend()\n",
    "plt.show()"
   ]
  },
  {
   "cell_type": "code",
   "execution_count": 20,
   "metadata": {},
   "outputs": [
    {
     "data": {
      "image/png": "[encoded data removed]",
      "text/plain": [
       "<Figure size 432x288 with 1 Axes>"
      ]
     },
     "metadata": {
      "needs_background": "light"
     },
     "output_type": "display_data"
    }
   ],
   "source": [
    "plt.scatter(x_test[:,3],y_test,c='red',label = 'Original y_test')\n",
    "plt.scatter(x_test[:,3],y_pred,c='blue',label = 'Calculated y_test')\n",
    "plt.xlabel('region_2')\n",
    "plt.ylabel('charges')\n",
    "plt.title('region_2 vs charges plot')\n",
    "plt.legend()\n",
    "plt.show()"
   ]
  },
  {
   "cell_type": "code",
   "execution_count": null,
   "metadata": {},
   "outputs": [],
   "source": []
  }
 ],
 "metadata": {
  "kernelspec": {
   "display_name": "Python 3",
   "language": "python",
   "name": "python3"
  },
  "language_info": {
   "codemirror_mode": {
    "name": "ipython",
    "version": 3
   },
   "file_extension": ".py",
   "mimetype": "text/x-python",
   "name": "python",
   "nbconvert_exporter": "python",
   "pygments_lexer": "ipython3",
   "version": "3.8.3"
  }
 },
 "nbformat": 4,
 "nbformat_minor": 2
}
